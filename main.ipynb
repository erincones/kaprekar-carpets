{
 "cells": [
  {
   "cell_type": "markdown",
   "metadata": {},
   "source": [
    "# Kaprekar's routine, constants and carpets"
   ]
  },
  {
   "cell_type": "markdown",
   "metadata": {},
   "source": [
    "## Dattatreya Ramachandra Kaprekar\n",
    "\n",
    "![D. R. Kaprekar](kaprekar.gif)\n",
    "\n",
    "Dattatreya Ramachandra Kaprekar (Dahanu, Maharastra, January 17, 1905 - Deolali, Nashik District, Maharastra, June 1, 1986, Kerala, India) was an indian mathematician whose name is associated with multiple concepts in number theory. He described the Kaprekar, harshad, self and other several of classes of natural numbers, and is also known for discovering the Kaprekar's constant."
   ]
  },
  {
   "cell_type": "markdown",
   "metadata": {},
   "source": [
    "## Kaprekar's routine\n",
    "\n",
    "It is an iterative algorithm consisting of the following steps:\n",
    "\n",
    "  1. Choose any natural number $n$ in a given number base $b$.\n",
    "  2. Create a new number $\\alpha$ by sorting the digits of $n$ in descending order.\n",
    "  3. Create a new number $\\beta$ by sorting the digits of $n$ in ascending order.\n",
    "  4. Substract $\\alpha - \\beta$ to produce the next $n$ number.\n",
    "  5. Repeat from step 2 with the new $n$ number.\n",
    "\n",
    "When the $\\alpha$ and $\\beta$ numbers are created may have leading zeros, wich could be discarted or preserved."
   ]
  },
  {
   "cell_type": "code",
   "execution_count": 1,
   "metadata": {},
   "outputs": [],
   "source": [
    "def kaprekar(n, pad=None):\n",
    "    \"\"\"\n",
    "    Base 10 Kaprekar's mapping for the given number\n",
    "    \"\"\"\n",
    "    d = str(n)\n",
    "    s = sorted(d.ljust(pad, \"0\") if pad and pad > len(d) else d)\n",
    "    return int(\"\".join(reversed(s))) - int(\"\".join(s))"
   ]
  },
  {
   "cell_type": "markdown",
   "metadata": {},
   "source": [
    "## Kaprekar's constants\n",
    "\n",
    "The consecutive application of the Kaprekar's routine may result on repeating cicles or reach fixing points. These fixing points are called Kaprekar's constants."
   ]
  },
  {
   "cell_type": "markdown",
   "metadata": {},
   "source": [
    "### 6174\n",
    "\n",
    "The 6174 number is the most famous Kaprekar's constant. It is obtained by applying at most seven iterations of the Kaprepar's routine for any base 10 four-digits number, not repdigit and preserving the leading zeros."
   ]
  },
  {
   "cell_type": "markdown",
   "metadata": {},
   "source": [
    "### 495\n",
    "\n",
    "The second most famous Kaprekar's constant is 495. It is obtained similarly as the 6174 constant but using three-digits numbers."
   ]
  },
  {
   "cell_type": "markdown",
   "metadata": {},
   "source": [
    "## Kaprekar's carpets"
   ]
  },
  {
   "cell_type": "markdown",
   "metadata": {},
   "source": [
    "Using the Kaprekar's routine with base 10 numbers when the leading zeros are preserved, Kaprekar's carpets can be built for the four-digits and three-digits cases.\n",
    "\n",
    "The carpet is a matrix of $10^{d}$ entries, where $d$ is the number of digits for the case. Each entry represents a number in the range $[0, 10^{d} - 1]$, contains the number of iterations needed to reach the Kaprekar's constant and are arranged so that the columns represent the two least significant digits of the number, while the rows represent the two most significant digits."
   ]
  },
  {
   "cell_type": "code",
   "execution_count": 2,
   "metadata": {},
   "outputs": [],
   "source": [
    "from copy import deepcopy\n",
    "from PIL import Image\n",
    "\n",
    "class Carpet():\n",
    "    \"\"\"\n",
    "    Base 10 Kaprekar's carpet for four or three digits\n",
    "    \"\"\"\n",
    "    \n",
    "    __rgb_palette = {\n",
    "        \"none\": (0x00, 0x00, 0x00),\n",
    "        \"border\": (0x00, 0x00, 0x00),\n",
    "        0: (0xFF, 0xFF, 0xFF),\n",
    "        1: (0xFF, 0xDB, 0x01),\n",
    "        2: (0x47, 0xFF, 0x01),\n",
    "        3: (0x01, 0xFE, 0x91),\n",
    "        4: (0x00, 0x91, 0xFE),\n",
    "        5: (0x48, 0x01, 0xFF),\n",
    "        6: (0xFE, 0x00, 0xDA),\n",
    "        7: (0xFE, 0x00, 0x00)\n",
    "    }\n",
    "    \n",
    "    __bw_palette = {\n",
    "        \"none\": (0x00, 0x00, 0x00),\n",
    "        \"border\": (0x00, 0x00, 0x00),\n",
    "        0: (0x1F, 0x1F, 0x1F),\n",
    "        1: (0x3F, 0x3F, 0x3F),\n",
    "        2: (0x5F, 0x5F, 0x5F),\n",
    "        3: (0x7F, 0x7F, 0x7F),\n",
    "        4: (0x9F, 0x9F, 0x9F),\n",
    "        5: (0xBF, 0xBF, 0xBF),\n",
    "        6: (0xDF, 0xDF, 0xDF),\n",
    "        7: (0xFF, 0xFF, 0xFF)\n",
    "\n",
    "    }\n",
    "    \n",
    "    \n",
    "    @staticmethod\n",
    "    def palette(name):\n",
    "        if name == \"rgb\":\n",
    "            return deepcopy(Carpet.__rgb_palette)\n",
    "        if name == \"bw\":\n",
    "            return deepcopy(Carpet.__bw_palette)\n",
    "        raise ValueError(\"unknown palette\")\n",
    "    \n",
    "    @staticmethod\n",
    "    def kaprekar(n, pad=None):\n",
    "        \"\"\"\n",
    "        Kaprekar's mapping for the given number\n",
    "        \"\"\"\n",
    "        d = str(n)\n",
    "        s = sorted(d.ljust(pad, \"0\") if pad and pad > len(d) else d)\n",
    "        return int(\"\".join(reversed(s))) - int(\"\".join(s))\n",
    "    \n",
    "    \n",
    "    def __init__(self, digits=4, cell_size=5, border_size=1, palette=\"rgb\"):\n",
    "        \"\"\"\n",
    "        Constructor\n",
    "        \"\"\"\n",
    "        self.setDigits(digits)\n",
    "        self.setCellSize(cell_size)\n",
    "        self.setBorderSize(border_size)\n",
    "        self.setPalette(palette)\n",
    "    \n",
    "    \n",
    "    def __coord(self, x, y):\n",
    "        \"\"\"\n",
    "        Get the coordinate of the upper left pixel for the given cell\n",
    "        \"\"\"\n",
    "        scale = self.__cell_size + self.__border_size\n",
    "        return (x * scale + self.__border_size, y * scale + self.__border_size)\n",
    "    \n",
    "    \n",
    "    def setDigits(self, digits):\n",
    "        \"\"\"\n",
    "        Set the number of digits\n",
    "        \"\"\"\n",
    "        if digits != 3 and digits != 4:\n",
    "            raise ValueError(\"only 3 and 4 are valid for the digits argument\")\n",
    "        \n",
    "        self.__n = digits\n",
    "        self.__modified = True\n",
    "    \n",
    "    def setCellSize(self, cell_size):\n",
    "        \"\"\"\n",
    "        Set the cell size\n",
    "        \"\"\"\n",
    "        if cell_size < 1:\n",
    "            raise ValueError(\"the cell size must be greater than zero\")\n",
    "        \n",
    "        self.__cell_size = cell_size\n",
    "        self.__modified = True\n",
    "    \n",
    "    def setBorderSize(self, border_size):\n",
    "        \"\"\"\n",
    "        Set the cell border size\n",
    "        \"\"\"\n",
    "        if border_size < 0:\n",
    "            raise ValueError(\"the border size cannot be negative\")\n",
    "        \n",
    "        self.__border_size = border_size\n",
    "        self.__modified = True\n",
    "    \n",
    "    def setPalette(self, palette):\n",
    "        \"\"\"\n",
    "        Set the carpet palette\n",
    "        \"\"\"\n",
    "        if isinstance(palette, str):\n",
    "            self.__palette = Carpet.palette(palette)\n",
    "        elif palette:\n",
    "            palette = deepcopy(palette)\n",
    "            for prop in [ \"none\", \"border\" ]:\n",
    "                if not prop in palette:\n",
    "                    palette[prop] = Carpet.__bw_palette[prop]\n",
    "            self.__palette = palette\n",
    "        self.__modified = True\n",
    "    \n",
    "    \n",
    "    def getCellSize(self):\n",
    "        \"\"\"\n",
    "        Get the cell size\n",
    "        \"\"\"\n",
    "        return self.__cell_size\n",
    "    \n",
    "    def getBorderSize(self):\n",
    "        \"\"\"\n",
    "        Get the border size\n",
    "        \"\"\"\n",
    "        return self.__border_size\n",
    "    \n",
    "    def getPalette(self):\n",
    "        \"\"\"\n",
    "        Get the palette\n",
    "        \"\"\"\n",
    "        return deepcopy(self.__palette)\n",
    "        \n",
    "    def getImage(self):\n",
    "        \"\"\"\n",
    "        Get the carpet image\n",
    "        \"\"\"\n",
    "        self.build()\n",
    "        return self.__img.copy()\n",
    "    \n",
    "    \n",
    "    def build(self):\n",
    "        \"\"\"\n",
    "        Build the Kaprekar's carpet\n",
    "        \"\"\"\n",
    "        if not self.__modified:\n",
    "            return\n",
    "        \n",
    "        zeros, fit = divmod(self.__n, 2)\n",
    "        rows = 10 ** zeros\n",
    "        cols = 10 ** (zeros + fit)\n",
    "        \n",
    "        self.__img = Image.new(mode=\"RGB\", size=self.__coord(cols, rows), color=self.__palette[\"border\"])\n",
    "        pixel = self.__img.load()\n",
    "        \n",
    "        for n in range(10 ** self.__n):\n",
    "            row, col = divmod(n, cols)\n",
    "\n",
    "            k_0 = n\n",
    "            k_1 = Carpet.kaprekar(k_0, self.__n)\n",
    "            color = None\n",
    "\n",
    "            if k_1:\n",
    "                i = 0\n",
    "                while k_1 != k_0:\n",
    "                    k_0 = k_1\n",
    "                    k_1 = Carpet.kaprekar(k_0, self.__n)\n",
    "                    i += 1\n",
    "                color = self.__palette[i] if i in self.__palette else 3 * (i,)\n",
    "            else:\n",
    "                color = self.__palette[\"none\"]\n",
    "\n",
    "            x, y = self.__coord(col, row)\n",
    "            for l in range(x, x + self.__cell_size):\n",
    "                for m in range(y, y + self.__cell_size):\n",
    "                    pixel[l, m] = color\n",
    "        \n",
    "        self.__modified = False"
   ]
  },
  {
   "cell_type": "code",
   "execution_count": 3,
   "metadata": {},
   "outputs": [],
   "source": [
    "from IPython.display import display\n",
    "\n",
    "# Carpet and BW palette with red constant\n",
    "carpet = Carpet()\n",
    "bw = Carpet.palette(\"bw\")\n",
    "bw[0] = (0xFF, 0x00, 0x00)\n",
    "\n",
    "def saveAndDisplay(img, name):\n",
    "    \"\"\"\n",
    "    Save and display the given image\n",
    "    \"\"\"\n",
    "    img.save(name)\n",
    "    display(img)"
   ]
  },
  {
   "cell_type": "markdown",
   "metadata": {},
   "source": [
    "### Four-digits carpet"
   ]
  },
  {
   "cell_type": "code",
   "execution_count": 4,
   "metadata": {},
   "outputs": [
    {
     "data": {
      "image/png": "[encoded data removed]",
      "text/plain": [
       "<PIL.Image.Image image mode=RGB size=601x601 at 0x7F366C079250>"
      ]
     },
     "metadata": {},
     "output_type": "display_data"
    },
    {
     "data": {
      "image/png": "[encoded data removed]",
      "text/plain": [
       "<PIL.Image.Image image mode=RGB size=601x601 at 0x7F366C079250>"
      ]
     },
     "metadata": {},
     "output_type": "display_data"
    }
   ],
   "source": [
    "# RGB carpet\n",
    "saveAndDisplay(carpet.getImage(), \"carpet4_rgb.png\")\n",
    "\n",
    "# BW carpet\n",
    "carpet.setPalette(bw)\n",
    "saveAndDisplay(carpet.getImage(), \"carpet4_bw.png\")"
   ]
  },
  {
   "cell_type": "markdown",
   "metadata": {},
   "source": [
    "### Three-digits carpet"
   ]
  },
  {
   "cell_type": "code",
   "execution_count": 5,
   "metadata": {},
   "outputs": [
    {
     "data": {
      "image/png": "[encoded data removed]",
      "text/plain": [
       "<PIL.Image.Image image mode=RGB size=601x61 at 0x7F366C079D90>"
      ]
     },
     "metadata": {},
     "output_type": "display_data"
    },
    {
     "data": {
      "image/png": "[encoded data removed]",
      "text/plain": [
       "<PIL.Image.Image image mode=RGB size=601x61 at 0x7F366C079D90>"
      ]
     },
     "metadata": {},
     "output_type": "display_data"
    }
   ],
   "source": [
    "# RGB carpet\n",
    "carpet.setDigits(3)\n",
    "carpet.setPalette(\"rgb\")\n",
    "saveAndDisplay(carpet.getImage(), \"carpet3_rgb.png\")\n",
    "\n",
    "# BW carpet\n",
    "carpet.setPalette(bw)\n",
    "saveAndDisplay(carpet.getImage(), \"carpet3_bw.png\")"
   ]
  }
 ],
 "metadata": {
  "kernelspec": {
   "display_name": "Python 3",
   "language": "python",
   "name": "python3"
  },
  "language_info": {
   "codemirror_mode": {
    "name": "ipython",
    "version": 3
   },
   "file_extension": ".py",
   "mimetype": "text/x-python",
   "name": "python",
   "nbconvert_exporter": "python",
   "pygments_lexer": "ipython3",
   "version": "3.9.6"
  }
 },
 "nbformat": 4,
 "nbformat_minor": 4
}
